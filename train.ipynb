{
 "cells": [
  {
   "cell_type": "code",
   "execution_count": 1,
   "metadata": {},
   "outputs": [],
   "source": [
    "import sys\n",
    "import os\n",
    "import cv2\n",
    "from tensorflow.keras import Sequential, Input\n",
    "from tensorflow.keras.layers import Dense, Dropout\n",
    "from tensorflow.keras import activations\n",
    "from tensorflow.keras.utils import to_categorical\n",
    "import numpy as np\n",
    "from sklearn.metrics import f1_score, accuracy_score\n",
    "from sklearn.model_selection import train_test_split\n",
    "from generation_model import create_model"
   ]
  },
  {
   "cell_type": "code",
   "execution_count": 3,
   "metadata": {},
   "outputs": [],
   "source": [
    "X = (np.load('./dataset/data.npy', allow_pickle=True)).reshape(14472, 630)\n",
    "X = X[:,:, np.newaxis]\n",
    "\n",
    "y = []\n",
    "for i in range(24):\n",
    "  y = y + [i]*603\n",
    "y = np.array(y)\n",
    "y = to_categorical(y)\n",
    "\n",
    "X_train, X_test, y_train, y_test = train_test_split(X, y, test_size=0.3333)\n",
    "X_train, X_val, y_train, y_val =  train_test_split(X_train, y_train, test_size=0.1429)"
   ]
  },
  {
   "cell_type": "code",
   "execution_count": 4,
   "metadata": {},
   "outputs": [],
   "source": [
    "model = create_model()"
   ]
  },
  {
   "cell_type": "code",
   "execution_count": 5,
   "metadata": {},
   "outputs": [
    {
     "name": "stdout",
     "output_type": "stream",
     "text": [
      "Model: \"sequential\"\n",
      "_________________________________________________________________\n",
      " Layer (type)                Output Shape              Param #   \n",
      "=================================================================\n",
      " dense (Dense)               (None, 1024)              646144    \n",
      "                                                                 \n",
      " dropout (Dropout)           (None, 1024)              0         \n",
      "                                                                 \n",
      " dense_1 (Dense)             (None, 512)               524800    \n",
      "                                                                 \n",
      " dropout_1 (Dropout)         (None, 512)               0         \n",
      "                                                                 \n",
      " dense_2 (Dense)             (None, 256)               131328    \n",
      "                                                                 \n",
      " dropout_2 (Dropout)         (None, 256)               0         \n",
      "                                                                 \n",
      " dense_3 (Dense)             (None, 24)                6168      \n",
      "                                                                 \n",
      "=================================================================\n",
      "Total params: 1,308,440\n",
      "Trainable params: 1,308,440\n",
      "Non-trainable params: 0\n",
      "_________________________________________________________________\n"
     ]
    }
   ],
   "source": [
    "model.summary()"
   ]
  },
  {
   "cell_type": "code",
   "execution_count": 6,
   "metadata": {},
   "outputs": [
    {
     "name": "stdout",
     "output_type": "stream",
     "text": [
      "Epoch 1/15\n",
      "130/130 [==============================] - 2s 12ms/step - loss: 1.3769 - accuracy: 0.6312 - val_loss: 0.3681 - val_accuracy: 0.9253\n",
      "Epoch 2/15\n",
      "130/130 [==============================] - 1s 9ms/step - loss: 0.3094 - accuracy: 0.9317 - val_loss: 0.1705 - val_accuracy: 0.9463\n",
      "Epoch 3/15\n",
      "130/130 [==============================] - 1s 9ms/step - loss: 0.2337 - accuracy: 0.9291 - val_loss: 0.1634 - val_accuracy: 0.9492\n",
      "Epoch 4/15\n",
      "130/130 [==============================] - 1s 9ms/step - loss: 0.2059 - accuracy: 0.9334 - val_loss: 0.1290 - val_accuracy: 0.9674\n",
      "Epoch 5/15\n",
      "130/130 [==============================] - 1s 9ms/step - loss: 0.1834 - accuracy: 0.9393 - val_loss: 0.1063 - val_accuracy: 0.9666\n",
      "Epoch 6/15\n",
      "130/130 [==============================] - 1s 9ms/step - loss: 0.1902 - accuracy: 0.9342 - val_loss: 0.1534 - val_accuracy: 0.9362\n",
      "Epoch 7/15\n",
      "130/130 [==============================] - 1s 9ms/step - loss: 0.1792 - accuracy: 0.9377 - val_loss: 0.0946 - val_accuracy: 0.9630\n",
      "Epoch 8/15\n",
      "130/130 [==============================] - 1s 9ms/step - loss: 0.1676 - accuracy: 0.9399 - val_loss: 0.0886 - val_accuracy: 0.9645\n",
      "Epoch 9/15\n",
      "130/130 [==============================] - 1s 9ms/step - loss: 0.1571 - accuracy: 0.9434 - val_loss: 0.0984 - val_accuracy: 0.9558\n",
      "Epoch 10/15\n",
      "130/130 [==============================] - 1s 9ms/step - loss: 0.1537 - accuracy: 0.9449 - val_loss: 0.0603 - val_accuracy: 0.9848\n",
      "Epoch 11/15\n",
      "130/130 [==============================] - 1s 9ms/step - loss: 0.1210 - accuracy: 0.9595 - val_loss: 0.0447 - val_accuracy: 0.9891\n",
      "Epoch 12/15\n",
      "130/130 [==============================] - 1s 9ms/step - loss: 0.1192 - accuracy: 0.9563 - val_loss: 0.0610 - val_accuracy: 0.9877\n",
      "Epoch 13/15\n",
      "130/130 [==============================] - 1s 10ms/step - loss: 0.1327 - accuracy: 0.9522 - val_loss: 0.0614 - val_accuracy: 0.9811\n",
      "Epoch 14/15\n",
      "130/130 [==============================] - 1s 10ms/step - loss: 0.1352 - accuracy: 0.9503 - val_loss: 0.0509 - val_accuracy: 0.9891\n",
      "Epoch 15/15\n",
      "130/130 [==============================] - 1s 11ms/step - loss: 0.1150 - accuracy: 0.9594 - val_loss: 0.0640 - val_accuracy: 0.9804\n"
     ]
    },
    {
     "data": {
      "text/plain": [
       "<keras.callbacks.History at 0x2a097ea7490>"
      ]
     },
     "execution_count": 6,
     "metadata": {},
     "output_type": "execute_result"
    }
   ],
   "source": [
    "epoch = 15\n",
    "batch_size = 64\n",
    "model.fit(x = X_train, y = y_train, batch_size = batch_size, epochs = epoch, validation_data = (X_val, y_val))"
   ]
  },
  {
   "cell_type": "code",
   "execution_count": 7,
   "metadata": {},
   "outputs": [
    {
     "name": "stdout",
     "output_type": "stream",
     "text": [
      "151/151 [==============================] - 1s 3ms/step\n"
     ]
    }
   ],
   "source": [
    "y_pre = model.predict(X_test)\n",
    "\n",
    "_y_pre = np.argmax(y_pre, axis = 1)\n",
    "_y_test = np.argmax(y_test, axis = 1)"
   ]
  },
  {
   "cell_type": "code",
   "execution_count": 8,
   "metadata": {},
   "outputs": [
    {
     "name": "stdout",
     "output_type": "stream",
     "text": [
      "acc: 0.9825870646766169\n",
      "f1: 0.9811529291071382\n"
     ]
    }
   ],
   "source": [
    "print(\"acc:\", accuracy_score(_y_pre, _y_test))\n",
    "print(\"f1:\", f1_score(_y_pre, _y_test, average='macro'))"
   ]
  },
  {
   "cell_type": "code",
   "execution_count": 9,
   "metadata": {},
   "outputs": [],
   "source": [
    "model.save_weights(\".\\weights\\weights_ANN.h5\")"
   ]
  }
 ],
 "metadata": {
  "kernelspec": {
   "display_name": "Python 3",
   "language": "python",
   "name": "python3"
  },
  "language_info": {
   "codemirror_mode": {
    "name": "ipython",
    "version": 3
   },
   "file_extension": ".py",
   "mimetype": "text/x-python",
   "name": "python",
   "nbconvert_exporter": "python",
   "pygments_lexer": "ipython3",
   "version": "3.10.5"
  },
  "orig_nbformat": 4
 },
 "nbformat": 4,
 "nbformat_minor": 2
}
